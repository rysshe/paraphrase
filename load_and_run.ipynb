{
 "cells": [
  {
   "cell_type": "code",
   "execution_count": 2,
   "metadata": {},
   "outputs": [],
   "source": [
    "import pandas as pd\n",
    "import numpy as np\n",
    "from torch.utils.data import Dataset, DataLoader\n",
    "import math\n",
    "import json\n",
    "import torch.nn.functional as F\n",
    "import torch\n",
    "from torch import nn as nn\n",
    "from tqdm.auto import tqdm\n",
    "import youtokentome as yttm\n",
    "import time\n",
    "import random\n",
    "import pickle\n"
   ]
  },
  {
   "cell_type": "code",
   "execution_count": 3,
   "metadata": {},
   "outputs": [],
   "source": [
    "from nn_code.transformer_classes import *"
   ]
  },
  {
   "cell_type": "code",
   "execution_count": 6,
   "metadata": {},
   "outputs": [
    {
     "output_type": "execute_result",
     "data": {
      "text/plain": "<module 'torch' from '/Users/t.zhordaniya/paraphrase/venv/lib/python3.7/site-packages/torch/__init__.py'>"
     },
     "metadata": {},
     "execution_count": 6
    }
   ],
   "source": [
    "torch"
   ]
  },
  {
   "cell_type": "code",
   "execution_count": 7,
   "metadata": {},
   "outputs": [],
   "source": [
    "from nn_code.bucketing import SequenceBucketingData"
   ]
  },
  {
   "cell_type": "code",
   "execution_count": 9,
   "metadata": {},
   "outputs": [],
   "source": [
    "from nn_code.decode import greedy, sampling"
   ]
  },
  {
   "cell_type": "code",
   "execution_count": 10,
   "metadata": {},
   "outputs": [],
   "source": [
    "tokenizer_path = 'models/saved_models/big_model/bpe_big.model'"
   ]
  },
  {
   "cell_type": "code",
   "execution_count": 11,
   "metadata": {},
   "outputs": [],
   "source": [
    "tokenizer = yttm.BPE(model=tokenizer_path)"
   ]
  },
  {
   "cell_type": "code",
   "execution_count": 12,
   "metadata": {},
   "outputs": [],
   "source": [
    "validation_loader_path = 'models/saved_models/big_model/valid_dataset_big.pickle'"
   ]
  },
  {
   "cell_type": "code",
   "execution_count": 13,
   "metadata": {},
   "outputs": [],
   "source": [
    "with open(validation_loader_path, 'rb') as f:\n",
    "    loader = pickle.load(f)"
   ]
  },
  {
   "cell_type": "code",
   "execution_count": 14,
   "metadata": {},
   "outputs": [],
   "source": [
    "device = torch.device('cuda' if torch.cuda.is_available() else 'cpu')"
   ]
  },
  {
   "cell_type": "code",
   "execution_count": 15,
   "metadata": {},
   "outputs": [],
   "source": [
    "INPUT_DIM = 16000\n",
    "OUTPUT_DIM = 16000\n",
    "HID_DIM = 256\n",
    "ENC_LAYERS = 4\n",
    "DEC_LAYERS = 4\n",
    "ENC_HEADS = 8\n",
    "DEC_HEADS = 8\n",
    "ENC_PF_DIM = 512\n",
    "DEC_PF_DIM = 512\n",
    "ENC_DROPOUT = 0.1\n",
    "DEC_DROPOUT = 0.1\n",
    "\n",
    "enc = Encoder(INPUT_DIM, \n",
    "              HID_DIM, \n",
    "              ENC_LAYERS, \n",
    "              ENC_HEADS, \n",
    "              ENC_PF_DIM, \n",
    "              ENC_DROPOUT, \n",
    "              device)\n",
    "\n",
    "dec = Decoder(OUTPUT_DIM, \n",
    "              HID_DIM, \n",
    "              DEC_LAYERS, \n",
    "              DEC_HEADS, \n",
    "              DEC_PF_DIM, \n",
    "              DEC_DROPOUT, \n",
    "              device)"
   ]
  },
  {
   "cell_type": "code",
   "execution_count": 16,
   "metadata": {},
   "outputs": [],
   "source": [
    "model = Seq2Seq(enc, dec, 0, 0, device).to(device)"
   ]
  },
  {
   "cell_type": "code",
   "execution_count": 17,
   "metadata": {},
   "outputs": [],
   "source": [
    "model_path = 'models/saved_models/big_model/big-model.pt'"
   ]
  },
  {
   "cell_type": "code",
   "execution_count": 18,
   "metadata": {},
   "outputs": [
    {
     "output_type": "execute_result",
     "data": {
      "text/plain": "Seq2Seq(\n  (encoder): Encoder(\n    (tok_embedding): Embedding(16000, 256)\n    (pos_embedding): Embedding(100, 256)\n    (layers): ModuleList(\n      (0): EncoderLayer(\n        (layer_norm): LayerNorm((256,), eps=1e-05, elementwise_affine=True)\n        (self_attention): MultiHeadAttentionLayer(\n          (fc_q): Linear(in_features=256, out_features=256, bias=True)\n          (fc_k): Linear(in_features=256, out_features=256, bias=True)\n          (fc_v): Linear(in_features=256, out_features=256, bias=True)\n          (fc_o): Linear(in_features=256, out_features=256, bias=True)\n          (dropout): Dropout(p=0.1, inplace=False)\n        )\n        (positionwise_feedforward): PositionwiseFeedforwardLayer(\n          (fc_1): Linear(in_features=256, out_features=512, bias=True)\n          (fc_2): Linear(in_features=512, out_features=256, bias=True)\n          (dropout): Dropout(p=0.1, inplace=False)\n        )\n        (dropout): Dropout(p=0.1, inplace=False)\n      )\n      (1): EncoderLayer(\n        (layer_norm): LayerNorm((256,), eps=1e-05, elementwise_affine=True)\n        (self_attention): MultiHeadAttentionLayer(\n          (fc_q): Linear(in_features=256, out_features=256, bias=True)\n          (fc_k): Linear(in_features=256, out_features=256, bias=True)\n          (fc_v): Linear(in_features=256, out_features=256, bias=True)\n          (fc_o): Linear(in_features=256, out_features=256, bias=True)\n          (dropout): Dropout(p=0.1, inplace=False)\n        )\n        (positionwise_feedforward): PositionwiseFeedforwardLayer(\n          (fc_1): Linear(in_features=256, out_features=512, bias=True)\n          (fc_2): Linear(in_features=512, out_features=256, bias=True)\n          (dropout): Dropout(p=0.1, inplace=False)\n        )\n        (dropout): Dropout(p=0.1, inplace=False)\n      )\n      (2): EncoderLayer(\n        (layer_norm): LayerNorm((256,), eps=1e-05, elementwise_affine=True)\n        (self_attention): MultiHeadAttentionLayer(\n          (fc_q): Linear(in_features=256, out_features=256, bias=True)\n          (fc_k): Linear(in_features=256, out_features=256, bias=True)\n          (fc_v): Linear(in_features=256, out_features=256, bias=True)\n          (fc_o): Linear(in_features=256, out_features=256, bias=True)\n          (dropout): Dropout(p=0.1, inplace=False)\n        )\n        (positionwise_feedforward): PositionwiseFeedforwardLayer(\n          (fc_1): Linear(in_features=256, out_features=512, bias=True)\n          (fc_2): Linear(in_features=512, out_features=256, bias=True)\n          (dropout): Dropout(p=0.1, inplace=False)\n        )\n        (dropout): Dropout(p=0.1, inplace=False)\n      )\n      (3): EncoderLayer(\n        (layer_norm): LayerNorm((256,), eps=1e-05, elementwise_affine=True)\n        (self_attention): MultiHeadAttentionLayer(\n          (fc_q): Linear(in_features=256, out_features=256, bias=True)\n          (fc_k): Linear(in_features=256, out_features=256, bias=True)\n          (fc_v): Linear(in_features=256, out_features=256, bias=True)\n          (fc_o): Linear(in_features=256, out_features=256, bias=True)\n          (dropout): Dropout(p=0.1, inplace=False)\n        )\n        (positionwise_feedforward): PositionwiseFeedforwardLayer(\n          (fc_1): Linear(in_features=256, out_features=512, bias=True)\n          (fc_2): Linear(in_features=512, out_features=256, bias=True)\n          (dropout): Dropout(p=0.1, inplace=False)\n        )\n        (dropout): Dropout(p=0.1, inplace=False)\n      )\n    )\n    (dropout): Dropout(p=0.1, inplace=False)\n  )\n  (decoder): Decoder(\n    (tok_embedding): Embedding(16000, 256)\n    (pos_embedding): Embedding(100, 256)\n    (layers): ModuleList(\n      (0): DecoderLayer(\n        (layer_norm): LayerNorm((256,), eps=1e-05, elementwise_affine=True)\n        (self_attention): MultiHeadAttentionLayer(\n          (fc_q): Linear(in_features=256, out_features=256, bias=True)\n          (fc_k): Linear(in_features=256, out_features=256, bias=True)\n          (fc_v): Linear(in_features=256, out_features=256, bias=True)\n          (fc_o): Linear(in_features=256, out_features=256, bias=True)\n          (dropout): Dropout(p=0.1, inplace=False)\n        )\n        (encoder_attention): MultiHeadAttentionLayer(\n          (fc_q): Linear(in_features=256, out_features=256, bias=True)\n          (fc_k): Linear(in_features=256, out_features=256, bias=True)\n          (fc_v): Linear(in_features=256, out_features=256, bias=True)\n          (fc_o): Linear(in_features=256, out_features=256, bias=True)\n          (dropout): Dropout(p=0.1, inplace=False)\n        )\n        (positionwise_feedforward): PositionwiseFeedforwardLayer(\n          (fc_1): Linear(in_features=256, out_features=512, bias=True)\n          (fc_2): Linear(in_features=512, out_features=256, bias=True)\n          (dropout): Dropout(p=0.1, inplace=False)\n        )\n        (dropout): Dropout(p=0.1, inplace=False)\n      )\n      (1): DecoderLayer(\n        (layer_norm): LayerNorm((256,), eps=1e-05, elementwise_affine=True)\n        (self_attention): MultiHeadAttentionLayer(\n          (fc_q): Linear(in_features=256, out_features=256, bias=True)\n          (fc_k): Linear(in_features=256, out_features=256, bias=True)\n          (fc_v): Linear(in_features=256, out_features=256, bias=True)\n          (fc_o): Linear(in_features=256, out_features=256, bias=True)\n          (dropout): Dropout(p=0.1, inplace=False)\n        )\n        (encoder_attention): MultiHeadAttentionLayer(\n          (fc_q): Linear(in_features=256, out_features=256, bias=True)\n          (fc_k): Linear(in_features=256, out_features=256, bias=True)\n          (fc_v): Linear(in_features=256, out_features=256, bias=True)\n          (fc_o): Linear(in_features=256, out_features=256, bias=True)\n          (dropout): Dropout(p=0.1, inplace=False)\n        )\n        (positionwise_feedforward): PositionwiseFeedforwardLayer(\n          (fc_1): Linear(in_features=256, out_features=512, bias=True)\n          (fc_2): Linear(in_features=512, out_features=256, bias=True)\n          (dropout): Dropout(p=0.1, inplace=False)\n        )\n        (dropout): Dropout(p=0.1, inplace=False)\n      )\n      (2): DecoderLayer(\n        (layer_norm): LayerNorm((256,), eps=1e-05, elementwise_affine=True)\n        (self_attention): MultiHeadAttentionLayer(\n          (fc_q): Linear(in_features=256, out_features=256, bias=True)\n          (fc_k): Linear(in_features=256, out_features=256, bias=True)\n          (fc_v): Linear(in_features=256, out_features=256, bias=True)\n          (fc_o): Linear(in_features=256, out_features=256, bias=True)\n          (dropout): Dropout(p=0.1, inplace=False)\n        )\n        (encoder_attention): MultiHeadAttentionLayer(\n          (fc_q): Linear(in_features=256, out_features=256, bias=True)\n          (fc_k): Linear(in_features=256, out_features=256, bias=True)\n          (fc_v): Linear(in_features=256, out_features=256, bias=True)\n          (fc_o): Linear(in_features=256, out_features=256, bias=True)\n          (dropout): Dropout(p=0.1, inplace=False)\n        )\n        (positionwise_feedforward): PositionwiseFeedforwardLayer(\n          (fc_1): Linear(in_features=256, out_features=512, bias=True)\n          (fc_2): Linear(in_features=512, out_features=256, bias=True)\n          (dropout): Dropout(p=0.1, inplace=False)\n        )\n        (dropout): Dropout(p=0.1, inplace=False)\n      )\n      (3): DecoderLayer(\n        (layer_norm): LayerNorm((256,), eps=1e-05, elementwise_affine=True)\n        (self_attention): MultiHeadAttentionLayer(\n          (fc_q): Linear(in_features=256, out_features=256, bias=True)\n          (fc_k): Linear(in_features=256, out_features=256, bias=True)\n          (fc_v): Linear(in_features=256, out_features=256, bias=True)\n          (fc_o): Linear(in_features=256, out_features=256, bias=True)\n          (dropout): Dropout(p=0.1, inplace=False)\n        )\n        (encoder_attention): MultiHeadAttentionLayer(\n          (fc_q): Linear(in_features=256, out_features=256, bias=True)\n          (fc_k): Linear(in_features=256, out_features=256, bias=True)\n          (fc_v): Linear(in_features=256, out_features=256, bias=True)\n          (fc_o): Linear(in_features=256, out_features=256, bias=True)\n          (dropout): Dropout(p=0.1, inplace=False)\n        )\n        (positionwise_feedforward): PositionwiseFeedforwardLayer(\n          (fc_1): Linear(in_features=256, out_features=512, bias=True)\n          (fc_2): Linear(in_features=512, out_features=256, bias=True)\n          (dropout): Dropout(p=0.1, inplace=False)\n        )\n        (dropout): Dropout(p=0.1, inplace=False)\n      )\n    )\n    (fc_out): Linear(in_features=256, out_features=16000, bias=True)\n    (dropout): Dropout(p=0.1, inplace=False)\n  )\n)"
     },
     "metadata": {},
     "execution_count": 18
    }
   ],
   "source": [
    "model.load_state_dict(torch.load(model_path, map_location=torch.device('cpu') ))\n",
    "model.eval()"
   ]
  },
  {
   "cell_type": "code",
   "execution_count": null,
   "metadata": {},
   "outputs": [],
   "source": []
  },
  {
   "cell_type": "code",
   "execution_count": null,
   "metadata": {},
   "outputs": [],
   "source": []
  },
  {
   "cell_type": "code",
   "execution_count": 20,
   "metadata": {},
   "outputs": [
    {
     "output_type": "execute_result",
     "data": {
      "text/plain": "'Что вы хотите чтобы я сказал'"
     },
     "metadata": {},
     "execution_count": 20
    }
   ],
   "source": [
    "greedy(model, tokenizer, 'Что вы хотели спросить у меня', device)"
   ]
  },
  {
   "cell_type": "code",
   "execution_count": null,
   "metadata": {},
   "outputs": [],
   "source": []
  },
  {
   "cell_type": "code",
   "execution_count": null,
   "metadata": {},
   "outputs": [],
   "source": []
  },
  {
   "cell_type": "code",
   "execution_count": 43,
   "metadata": {},
   "outputs": [
    {
     "output_type": "execute_result",
     "data": {
      "text/plain": "'С что ты хочешь чтобы ты хочешь дел с ак тебе с Дел что с Дел ай'"
     },
     "metadata": {},
     "execution_count": 43
    }
   ],
   "source": [
    "sampling(model, tokenizer, 'Делай с этим что хочешь', device, temperature=1.5, top_k=10, top_p=0.8)"
   ]
  },
  {
   "cell_type": "code",
   "execution_count": null,
   "metadata": {},
   "outputs": [],
   "source": []
  },
  {
   "cell_type": "code",
   "execution_count": null,
   "metadata": {},
   "outputs": [],
   "source": []
  },
  {
   "cell_type": "code",
   "execution_count": null,
   "metadata": {},
   "outputs": [],
   "source": []
  }
 ],
 "metadata": {
  "kernelspec": {
   "display_name": "Python 3.7.6 64-bit ('venv': venv)",
   "language": "python",
   "name": "python_defaultSpec_1594762534018"
  },
  "language_info": {
   "codemirror_mode": {
    "name": "ipython",
    "version": 3
   },
   "file_extension": ".py",
   "mimetype": "text/x-python",
   "name": "python",
   "nbconvert_exporter": "python",
   "pygments_lexer": "ipython3",
   "version": "3.7.6-final"
  }
 },
 "nbformat": 4,
 "nbformat_minor": 4
}